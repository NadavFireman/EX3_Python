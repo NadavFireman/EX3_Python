{
 "cells": [
  {
   "cell_type": "code",
   "execution_count": 40,
   "id": "515f2a31",
   "metadata": {},
   "outputs": [],
   "source": [
    "import numpy as np \n",
    "import matplotlib.pyplot as plt\n",
    "import pandas as pd"
   ]
  },
  {
   "cell_type": "markdown",
   "id": "8ef1128d",
   "metadata": {},
   "source": [
    "# Part A"
   ]
  },
  {
   "cell_type": "code",
   "execution_count": 41,
   "id": "7f6236e0",
   "metadata": {},
   "outputs": [
    {
     "data": {
      "text/html": [
       "<div>\n",
       "<style scoped>\n",
       "    .dataframe tbody tr th:only-of-type {\n",
       "        vertical-align: middle;\n",
       "    }\n",
       "\n",
       "    .dataframe tbody tr th {\n",
       "        vertical-align: top;\n",
       "    }\n",
       "\n",
       "    .dataframe thead th {\n",
       "        text-align: right;\n",
       "    }\n",
       "</style>\n",
       "<table border=\"1\" class=\"dataframe\">\n",
       "  <thead>\n",
       "    <tr style=\"text-align: right;\">\n",
       "      <th></th>\n",
       "      <th>x</th>\n",
       "      <th>y</th>\n",
       "      <th>z</th>\n",
       "    </tr>\n",
       "  </thead>\n",
       "  <tbody>\n",
       "    <tr>\n",
       "      <th>0</th>\n",
       "      <td>2.967138</td>\n",
       "      <td>8.514596</td>\n",
       "      <td>55.761783</td>\n",
       "    </tr>\n",
       "    <tr>\n",
       "      <th>1</th>\n",
       "      <td>-0.932991</td>\n",
       "      <td>-2.553088</td>\n",
       "      <td>-0.154878</td>\n",
       "    </tr>\n",
       "    <tr>\n",
       "      <th>2</th>\n",
       "      <td>0.344736</td>\n",
       "      <td>-0.196717</td>\n",
       "      <td>-0.177142</td>\n",
       "    </tr>\n",
       "    <tr>\n",
       "      <th>3</th>\n",
       "      <td>1.180062</td>\n",
       "      <td>-1.141802</td>\n",
       "      <td>-0.513817</td>\n",
       "    </tr>\n",
       "    <tr>\n",
       "      <th>4</th>\n",
       "      <td>1.181157</td>\n",
       "      <td>-1.142394</td>\n",
       "      <td>-0.513804</td>\n",
       "    </tr>\n",
       "    <tr>\n",
       "      <th>...</th>\n",
       "      <td>...</td>\n",
       "      <td>...</td>\n",
       "      <td>...</td>\n",
       "    </tr>\n",
       "    <tr>\n",
       "      <th>9995</th>\n",
       "      <td>-0.091610</td>\n",
       "      <td>-0.017554</td>\n",
       "      <td>-0.017399</td>\n",
       "    </tr>\n",
       "    <tr>\n",
       "      <th>9996</th>\n",
       "      <td>-0.509211</td>\n",
       "      <td>-0.650627</td>\n",
       "      <td>-0.437487</td>\n",
       "    </tr>\n",
       "    <tr>\n",
       "      <th>9997</th>\n",
       "      <td>0.824865</td>\n",
       "      <td>-0.799564</td>\n",
       "      <td>-0.480759</td>\n",
       "    </tr>\n",
       "    <tr>\n",
       "      <th>9998</th>\n",
       "      <td>-1.152492</td>\n",
       "      <td>-4.187260</td>\n",
       "      <td>0.106634</td>\n",
       "    </tr>\n",
       "    <tr>\n",
       "      <th>9999</th>\n",
       "      <td>-2.241770</td>\n",
       "      <td>-21.317154</td>\n",
       "      <td>-0.000015</td>\n",
       "    </tr>\n",
       "  </tbody>\n",
       "</table>\n",
       "<p>10000 rows × 3 columns</p>\n",
       "</div>"
      ],
      "text/plain": [
       "             x          y          z\n",
       "0     2.967138   8.514596  55.761783\n",
       "1    -0.932991  -2.553088  -0.154878\n",
       "2     0.344736  -0.196717  -0.177142\n",
       "3     1.180062  -1.141802  -0.513817\n",
       "4     1.181157  -1.142394  -0.513804\n",
       "...        ...        ...        ...\n",
       "9995 -0.091610  -0.017554  -0.017399\n",
       "9996 -0.509211  -0.650627  -0.437487\n",
       "9997  0.824865  -0.799564  -0.480759\n",
       "9998 -1.152492  -4.187260   0.106634\n",
       "9999 -2.241770 -21.317154  -0.000015\n",
       "\n",
       "[10000 rows x 3 columns]"
      ]
     },
     "execution_count": 41,
     "metadata": {},
     "output_type": "execute_result"
    }
   ],
   "source": [
    "x=np.random.normal( 0 , 2 , 10000 )\n",
    "y=x**3 - 2*(x**2)\n",
    "z=np.sqrt(np.exp(y))*np.sin(y)\n",
    "data={'x' : x , 'y' : y , 'z' : z }\n",
    "df = pd.DataFrame(data)\n",
    "df"
   ]
  },
  {
   "cell_type": "markdown",
   "id": "770565c1",
   "metadata": {},
   "source": [
    "#### Exercise 1"
   ]
  },
  {
   "cell_type": "code",
   "execution_count": 42,
   "id": "5c67df60",
   "metadata": {},
   "outputs": [
    {
     "data": {
      "text/plain": [
       "291.14161757324695"
      ]
     },
     "execution_count": 42,
     "metadata": {},
     "output_type": "execute_result"
    }
   ],
   "source": [
    "df['y'].max()"
   ]
  },
  {
   "cell_type": "markdown",
   "id": "94f52b88",
   "metadata": {},
   "source": [
    "#### Exercise 2"
   ]
  },
  {
   "cell_type": "code",
   "execution_count": 43,
   "id": "7bb70b97",
   "metadata": {},
   "outputs": [
    {
     "data": {
      "text/plain": [
       "-4.471676245486273e+55"
      ]
     },
     "execution_count": 43,
     "metadata": {},
     "output_type": "execute_result"
    }
   ],
   "source": [
    "df['z'].min()"
   ]
  },
  {
   "cell_type": "markdown",
   "id": "4f349db6",
   "metadata": {},
   "source": [
    "#### Exercise 3"
   ]
  },
  {
   "cell_type": "code",
   "execution_count": 44,
   "id": "deac7d05",
   "metadata": {},
   "outputs": [
    {
     "data": {
      "text/html": [
       "<div>\n",
       "<style scoped>\n",
       "    .dataframe tbody tr th:only-of-type {\n",
       "        vertical-align: middle;\n",
       "    }\n",
       "\n",
       "    .dataframe tbody tr th {\n",
       "        vertical-align: top;\n",
       "    }\n",
       "\n",
       "    .dataframe thead th {\n",
       "        text-align: right;\n",
       "    }\n",
       "</style>\n",
       "<table border=\"1\" class=\"dataframe\">\n",
       "  <thead>\n",
       "    <tr style=\"text-align: right;\">\n",
       "      <th></th>\n",
       "      <th>x</th>\n",
       "      <th>y</th>\n",
       "      <th>z</th>\n",
       "    </tr>\n",
       "  </thead>\n",
       "  <tbody>\n",
       "  </tbody>\n",
       "</table>\n",
       "</div>"
      ],
      "text/plain": [
       "Empty DataFrame\n",
       "Columns: [x, y, z]\n",
       "Index: []"
      ]
     },
     "execution_count": 44,
     "metadata": {},
     "output_type": "execute_result"
    }
   ],
   "source": [
    "df[df['y'] == 'z']"
   ]
  },
  {
   "cell_type": "markdown",
   "id": "9615fa61",
   "metadata": {},
   "source": [
    "#### Exercise 4"
   ]
  },
  {
   "cell_type": "code",
   "execution_count": 45,
   "id": "30315f82",
   "metadata": {},
   "outputs": [
    {
     "data": {
      "text/html": [
       "<div>\n",
       "<style scoped>\n",
       "    .dataframe tbody tr th:only-of-type {\n",
       "        vertical-align: middle;\n",
       "    }\n",
       "\n",
       "    .dataframe tbody tr th {\n",
       "        vertical-align: top;\n",
       "    }\n",
       "\n",
       "    .dataframe thead th {\n",
       "        text-align: right;\n",
       "    }\n",
       "</style>\n",
       "<table border=\"1\" class=\"dataframe\">\n",
       "  <thead>\n",
       "    <tr style=\"text-align: right;\">\n",
       "      <th></th>\n",
       "      <th>x</th>\n",
       "      <th>z</th>\n",
       "    </tr>\n",
       "  </thead>\n",
       "  <tbody>\n",
       "    <tr>\n",
       "      <th>0</th>\n",
       "      <td>2.967138</td>\n",
       "      <td>55.761783</td>\n",
       "    </tr>\n",
       "    <tr>\n",
       "      <th>1</th>\n",
       "      <td>-0.932991</td>\n",
       "      <td>-0.154878</td>\n",
       "    </tr>\n",
       "    <tr>\n",
       "      <th>2</th>\n",
       "      <td>0.344736</td>\n",
       "      <td>-0.177142</td>\n",
       "    </tr>\n",
       "    <tr>\n",
       "      <th>3</th>\n",
       "      <td>1.180062</td>\n",
       "      <td>-0.513817</td>\n",
       "    </tr>\n",
       "    <tr>\n",
       "      <th>4</th>\n",
       "      <td>1.181157</td>\n",
       "      <td>-0.513804</td>\n",
       "    </tr>\n",
       "  </tbody>\n",
       "</table>\n",
       "</div>"
      ],
      "text/plain": [
       "          x          z\n",
       "0  2.967138  55.761783\n",
       "1 -0.932991  -0.154878\n",
       "2  0.344736  -0.177142\n",
       "3  1.180062  -0.513817\n",
       "4  1.181157  -0.513804"
      ]
     },
     "execution_count": 45,
     "metadata": {},
     "output_type": "execute_result"
    }
   ],
   "source": [
    "df[['x','z']].head(5)"
   ]
  },
  {
   "cell_type": "markdown",
   "id": "95d450ef",
   "metadata": {},
   "source": [
    "#### Exercise 5"
   ]
  },
  {
   "cell_type": "code",
   "execution_count": 46,
   "id": "28f026a2",
   "metadata": {},
   "outputs": [
    {
     "data": {
      "text/html": [
       "<div>\n",
       "<style scoped>\n",
       "    .dataframe tbody tr th:only-of-type {\n",
       "        vertical-align: middle;\n",
       "    }\n",
       "\n",
       "    .dataframe tbody tr th {\n",
       "        vertical-align: top;\n",
       "    }\n",
       "\n",
       "    .dataframe thead th {\n",
       "        text-align: right;\n",
       "    }\n",
       "</style>\n",
       "<table border=\"1\" class=\"dataframe\">\n",
       "  <thead>\n",
       "    <tr style=\"text-align: right;\">\n",
       "      <th></th>\n",
       "      <th>x</th>\n",
       "      <th>y</th>\n",
       "      <th>z</th>\n",
       "      <th>w</th>\n",
       "    </tr>\n",
       "  </thead>\n",
       "  <tbody>\n",
       "    <tr>\n",
       "      <th>0</th>\n",
       "      <td>2.967138</td>\n",
       "      <td>8.514596</td>\n",
       "      <td>55.761783</td>\n",
       "      <td>-173358.829226</td>\n",
       "    </tr>\n",
       "    <tr>\n",
       "      <th>1</th>\n",
       "      <td>-0.932991</td>\n",
       "      <td>-2.553088</td>\n",
       "      <td>-0.154878</td>\n",
       "      <td>-7.655550</td>\n",
       "    </tr>\n",
       "    <tr>\n",
       "      <th>2</th>\n",
       "      <td>0.344736</td>\n",
       "      <td>-0.196717</td>\n",
       "      <td>-0.177142</td>\n",
       "      <td>-0.584592</td>\n",
       "    </tr>\n",
       "    <tr>\n",
       "      <th>3</th>\n",
       "      <td>1.180062</td>\n",
       "      <td>-1.141802</td>\n",
       "      <td>-0.513817</td>\n",
       "      <td>-3.289753</td>\n",
       "    </tr>\n",
       "    <tr>\n",
       "      <th>4</th>\n",
       "      <td>1.181157</td>\n",
       "      <td>-1.142394</td>\n",
       "      <td>-0.513804</td>\n",
       "      <td>-3.291540</td>\n",
       "    </tr>\n",
       "    <tr>\n",
       "      <th>...</th>\n",
       "      <td>...</td>\n",
       "      <td>...</td>\n",
       "      <td>...</td>\n",
       "      <td>...</td>\n",
       "    </tr>\n",
       "    <tr>\n",
       "      <th>9995</th>\n",
       "      <td>-0.091610</td>\n",
       "      <td>-0.017554</td>\n",
       "      <td>-0.017399</td>\n",
       "      <td>-0.052656</td>\n",
       "    </tr>\n",
       "    <tr>\n",
       "      <th>9996</th>\n",
       "      <td>-0.509211</td>\n",
       "      <td>-0.650627</td>\n",
       "      <td>-0.437487</td>\n",
       "      <td>-1.868149</td>\n",
       "    </tr>\n",
       "    <tr>\n",
       "      <th>9997</th>\n",
       "      <td>0.824865</td>\n",
       "      <td>-0.799564</td>\n",
       "      <td>-0.480759</td>\n",
       "      <td>-2.287574</td>\n",
       "    </tr>\n",
       "    <tr>\n",
       "      <th>9998</th>\n",
       "      <td>-1.152492</td>\n",
       "      <td>-4.187260</td>\n",
       "      <td>0.106634</td>\n",
       "      <td>-12.562994</td>\n",
       "    </tr>\n",
       "    <tr>\n",
       "      <th>9999</th>\n",
       "      <td>-2.241770</td>\n",
       "      <td>-21.317154</td>\n",
       "      <td>-0.000015</td>\n",
       "      <td>-63.951463</td>\n",
       "    </tr>\n",
       "  </tbody>\n",
       "</table>\n",
       "<p>10000 rows × 4 columns</p>\n",
       "</div>"
      ],
      "text/plain": [
       "             x          y          z              w\n",
       "0     2.967138   8.514596  55.761783 -173358.829226\n",
       "1    -0.932991  -2.553088  -0.154878      -7.655550\n",
       "2     0.344736  -0.196717  -0.177142      -0.584592\n",
       "3     1.180062  -1.141802  -0.513817      -3.289753\n",
       "4     1.181157  -1.142394  -0.513804      -3.291540\n",
       "...        ...        ...        ...            ...\n",
       "9995 -0.091610  -0.017554  -0.017399      -0.052656\n",
       "9996 -0.509211  -0.650627  -0.437487      -1.868149\n",
       "9997  0.824865  -0.799564  -0.480759      -2.287574\n",
       "9998 -1.152492  -4.187260   0.106634     -12.562994\n",
       "9999 -2.241770 -21.317154  -0.000015     -63.951463\n",
       "\n",
       "[10000 rows x 4 columns]"
      ]
     },
     "execution_count": 46,
     "metadata": {},
     "output_type": "execute_result"
    }
   ],
   "source": [
    "df['w'] = 3*y - z**3\n",
    "df"
   ]
  },
  {
   "cell_type": "markdown",
   "id": "592455c7",
   "metadata": {},
   "source": [
    "#### Exercise 6 + 8"
   ]
  },
  {
   "cell_type": "code",
   "execution_count": 47,
   "id": "98abaf28",
   "metadata": {},
   "outputs": [
    {
     "data": {
      "image/png": "[encoded data removed]",
      "text/plain": [
       "<Figure size 432x288 with 1 Axes>"
      ]
     },
     "metadata": {
      "needs_background": "light"
     },
     "output_type": "display_data"
    }
   ],
   "source": [
    "plt.scatter(df['x'],df['y'],c='teal')\n",
    "plt.xlabel('Axis x')\n",
    "plt.ylabel('Axis y')\n",
    "plt.title('Number line')\n",
    "plt.show()"
   ]
  },
  {
   "cell_type": "markdown",
   "id": "359cdfdf",
   "metadata": {},
   "source": [
    "#### Exercise 7 + 8"
   ]
  },
  {
   "cell_type": "markdown",
   "id": "3bb08c52",
   "metadata": {},
   "source": [
    "The original graph"
   ]
  },
  {
   "cell_type": "code",
   "execution_count": 48,
   "id": "9bfe2bbf",
   "metadata": {},
   "outputs": [
    {
     "data": {
      "image/png": "[encoded data removed]",
      "text/plain": [
       "<Figure size 432x288 with 1 Axes>"
      ]
     },
     "metadata": {
      "needs_background": "light"
     },
     "output_type": "display_data"
    }
   ],
   "source": [
    "plt.scatter(df['x'],df['z'],c='SeaGreen')\n",
    "plt.xlabel('Axis x')\n",
    "plt.ylabel('Axis z')\n",
    "plt.title('Number line')\n",
    "plt.show()"
   ]
  },
  {
   "cell_type": "markdown",
   "id": "2e033a49",
   "metadata": {},
   "source": [
    "Same graph with defined ranges"
   ]
  },
  {
   "cell_type": "code",
   "execution_count": 49,
   "id": "15f7b28c",
   "metadata": {},
   "outputs": [
    {
     "data": {
      "image/png": "[encoded data removed]",
      "text/plain": [
       "<Figure size 432x288 with 1 Axes>"
      ]
     },
     "metadata": {
      "needs_background": "light"
     },
     "output_type": "display_data"
    }
   ],
   "source": [
    "plt.scatter(df['x'],df['z'],c='SeaGreen')\n",
    "plt.xlabel('Axis x')\n",
    "plt.ylabel('Axis z')\n",
    "plt.title('Number line')\n",
    "plt.ylim(-5,5)\n",
    "plt.show()"
   ]
  },
  {
   "cell_type": "markdown",
   "id": "5f3c1ff0",
   "metadata": {},
   "source": [
    "#### Exercise 9"
   ]
  },
  {
   "cell_type": "markdown",
   "id": "20a96312",
   "metadata": {},
   "source": [
    "The original graph"
   ]
  },
  {
   "cell_type": "code",
   "execution_count": 50,
   "id": "b7052a7a",
   "metadata": {},
   "outputs": [
    {
     "data": {
      "image/png": "[encoded data removed]",
      "text/plain": [
       "<Figure size 1440x360 with 1 Axes>"
      ]
     },
     "metadata": {
      "needs_background": "light"
     },
     "output_type": "display_data"
    }
   ],
   "source": [
    "axisy = df['w'].sample(frac=0.35)\n",
    "axisx = range(1,len(axisy)+1)\n",
    "plt.figure(figsize=(20,5))\n",
    "plt.bar(axisx,axisy,color=\"darkviolet\")\n",
    "plt.show()"
   ]
  },
  {
   "cell_type": "markdown",
   "id": "aefae4e8",
   "metadata": {},
   "source": [
    "Same graph with defined ranges"
   ]
  },
  {
   "cell_type": "code",
   "execution_count": 51,
   "id": "13d272f1",
   "metadata": {},
   "outputs": [
    {
     "data": {
      "image/png": "[encoded data removed]",
      "text/plain": [
       "<Figure size 1440x360 with 1 Axes>"
      ]
     },
     "metadata": {
      "needs_background": "light"
     },
     "output_type": "display_data"
    }
   ],
   "source": [
    "axisy = df['w'].sample(frac=0.35)\n",
    "axisx = range(1,len(axisy)+1)\n",
    "plt.figure(figsize=(20,5))\n",
    "plt.bar(axisx,axisy,color=\"darkviolet\")\n",
    "plt.ylim(-100,100)\n",
    "plt.show()"
   ]
  },
  {
   "cell_type": "markdown",
   "id": "5f6171f6",
   "metadata": {},
   "source": [
    "# Part B"
   ]
  },
  {
   "cell_type": "markdown",
   "id": "66b6355f",
   "metadata": {},
   "source": [
    "### Section A"
   ]
  },
  {
   "cell_type": "markdown",
   "id": "542d04d3",
   "metadata": {},
   "source": [
    "###### Exercise 1"
   ]
  },
  {
   "cell_type": "code",
   "execution_count": 52,
   "id": "0a2145ea",
   "metadata": {},
   "outputs": [
    {
     "name": "stdout",
     "output_type": "stream",
     "text": [
      "Loaded\n"
     ]
    }
   ],
   "source": [
    "try:\n",
    "  data = pd.read_csv(\"flights.csv\")\n",
    "  print(\"Loaded\")\n",
    "except:\n",
    "  print(\"Error\")"
   ]
  },
  {
   "cell_type": "code",
   "execution_count": 53,
   "id": "99bc4ced",
   "metadata": {},
   "outputs": [
    {
     "data": {
      "text/html": [
       "<div>\n",
       "<style scoped>\n",
       "    .dataframe tbody tr th:only-of-type {\n",
       "        vertical-align: middle;\n",
       "    }\n",
       "\n",
       "    .dataframe tbody tr th {\n",
       "        vertical-align: top;\n",
       "    }\n",
       "\n",
       "    .dataframe thead th {\n",
       "        text-align: right;\n",
       "    }\n",
       "</style>\n",
       "<table border=\"1\" class=\"dataframe\">\n",
       "  <thead>\n",
       "    <tr style=\"text-align: right;\">\n",
       "      <th></th>\n",
       "      <th>Carrier</th>\n",
       "      <th>Day</th>\n",
       "      <th>DepTime</th>\n",
       "      <th>Dest</th>\n",
       "      <th>Origin</th>\n",
       "      <th>Weather</th>\n",
       "      <th>Delayed</th>\n",
       "    </tr>\n",
       "  </thead>\n",
       "  <tbody>\n",
       "    <tr>\n",
       "      <th>0</th>\n",
       "      <td>OH</td>\n",
       "      <td>WED</td>\n",
       "      <td>1455</td>\n",
       "      <td>JFK</td>\n",
       "      <td>BWI</td>\n",
       "      <td>0</td>\n",
       "      <td>0</td>\n",
       "    </tr>\n",
       "    <tr>\n",
       "      <th>1</th>\n",
       "      <td>DH</td>\n",
       "      <td>WED</td>\n",
       "      <td>1640</td>\n",
       "      <td>JFK</td>\n",
       "      <td>DCA</td>\n",
       "      <td>0</td>\n",
       "      <td>0</td>\n",
       "    </tr>\n",
       "    <tr>\n",
       "      <th>2</th>\n",
       "      <td>DH</td>\n",
       "      <td>WED</td>\n",
       "      <td>1245</td>\n",
       "      <td>LGA</td>\n",
       "      <td>IAD</td>\n",
       "      <td>0</td>\n",
       "      <td>0</td>\n",
       "    </tr>\n",
       "    <tr>\n",
       "      <th>3</th>\n",
       "      <td>DH</td>\n",
       "      <td>WED</td>\n",
       "      <td>1709</td>\n",
       "      <td>LGA</td>\n",
       "      <td>IAD</td>\n",
       "      <td>0</td>\n",
       "      <td>0</td>\n",
       "    </tr>\n",
       "    <tr>\n",
       "      <th>4</th>\n",
       "      <td>DH</td>\n",
       "      <td>WED</td>\n",
       "      <td>1035</td>\n",
       "      <td>LGA</td>\n",
       "      <td>IAD</td>\n",
       "      <td>0</td>\n",
       "      <td>0</td>\n",
       "    </tr>\n",
       "    <tr>\n",
       "      <th>...</th>\n",
       "      <td>...</td>\n",
       "      <td>...</td>\n",
       "      <td>...</td>\n",
       "      <td>...</td>\n",
       "      <td>...</td>\n",
       "      <td>...</td>\n",
       "      <td>...</td>\n",
       "    </tr>\n",
       "    <tr>\n",
       "      <th>2196</th>\n",
       "      <td>RU</td>\n",
       "      <td>FRI</td>\n",
       "      <td>644</td>\n",
       "      <td>EWR</td>\n",
       "      <td>DCA</td>\n",
       "      <td>0</td>\n",
       "      <td>0</td>\n",
       "    </tr>\n",
       "    <tr>\n",
       "      <th>2197</th>\n",
       "      <td>RU</td>\n",
       "      <td>FRI</td>\n",
       "      <td>1653</td>\n",
       "      <td>EWR</td>\n",
       "      <td>IAD</td>\n",
       "      <td>0</td>\n",
       "      <td>0</td>\n",
       "    </tr>\n",
       "    <tr>\n",
       "      <th>2198</th>\n",
       "      <td>RU</td>\n",
       "      <td>FRI</td>\n",
       "      <td>1558</td>\n",
       "      <td>EWR</td>\n",
       "      <td>DCA</td>\n",
       "      <td>0</td>\n",
       "      <td>0</td>\n",
       "    </tr>\n",
       "    <tr>\n",
       "      <th>2199</th>\n",
       "      <td>RU</td>\n",
       "      <td>FRI</td>\n",
       "      <td>1403</td>\n",
       "      <td>EWR</td>\n",
       "      <td>DCA</td>\n",
       "      <td>0</td>\n",
       "      <td>0</td>\n",
       "    </tr>\n",
       "    <tr>\n",
       "      <th>2200</th>\n",
       "      <td>RU</td>\n",
       "      <td>FRI</td>\n",
       "      <td>1736</td>\n",
       "      <td>EWR</td>\n",
       "      <td>DCA</td>\n",
       "      <td>0</td>\n",
       "      <td>0</td>\n",
       "    </tr>\n",
       "  </tbody>\n",
       "</table>\n",
       "<p>2201 rows × 7 columns</p>\n",
       "</div>"
      ],
      "text/plain": [
       "     Carrier  Day  DepTime Dest Origin  Weather  Delayed\n",
       "0         OH  WED     1455  JFK    BWI        0        0\n",
       "1         DH  WED     1640  JFK    DCA        0        0\n",
       "2         DH  WED     1245  LGA    IAD        0        0\n",
       "3         DH  WED     1709  LGA    IAD        0        0\n",
       "4         DH  WED     1035  LGA    IAD        0        0\n",
       "...      ...  ...      ...  ...    ...      ...      ...\n",
       "2196      RU  FRI      644  EWR    DCA        0        0\n",
       "2197      RU  FRI     1653  EWR    IAD        0        0\n",
       "2198      RU  FRI     1558  EWR    DCA        0        0\n",
       "2199      RU  FRI     1403  EWR    DCA        0        0\n",
       "2200      RU  FRI     1736  EWR    DCA        0        0\n",
       "\n",
       "[2201 rows x 7 columns]"
      ]
     },
     "execution_count": 53,
     "metadata": {},
     "output_type": "execute_result"
    }
   ],
   "source": [
    "data"
   ]
  },
  {
   "cell_type": "markdown",
   "id": "bb8b4ab5",
   "metadata": {},
   "source": [
    "##### Exercise 2"
   ]
  },
  {
   "cell_type": "code",
   "execution_count": 54,
   "id": "0af96fff",
   "metadata": {},
   "outputs": [
    {
     "name": "stdout",
     "output_type": "stream",
     "text": [
      "2201 rows, 7 columns\n"
     ]
    }
   ],
   "source": [
    "print(data.shape[0], \"rows,\",data.shape[1], \"columns\")"
   ]
  },
  {
   "cell_type": "code",
   "execution_count": 55,
   "id": "4cd75187",
   "metadata": {},
   "outputs": [
    {
     "data": {
      "text/plain": [
       "(2201, 7)"
      ]
     },
     "execution_count": 55,
     "metadata": {},
     "output_type": "execute_result"
    }
   ],
   "source": [
    "data.shape"
   ]
  },
  {
   "cell_type": "markdown",
   "id": "79fe65d2",
   "metadata": {},
   "source": [
    "##### Exercise 3"
   ]
  },
  {
   "cell_type": "code",
   "execution_count": 56,
   "id": "66c1d5dd",
   "metadata": {},
   "outputs": [
    {
     "data": {
      "text/plain": [
       "Carrier    0\n",
       "Day        0\n",
       "DepTime    0\n",
       "Dest       0\n",
       "Origin     0\n",
       "Weather    0\n",
       "Delayed    0\n",
       "dtype: int64"
      ]
     },
     "execution_count": 56,
     "metadata": {},
     "output_type": "execute_result"
    }
   ],
   "source": [
    "data.isna().sum()"
   ]
  },
  {
   "cell_type": "markdown",
   "id": "83ca126d",
   "metadata": {},
   "source": [
    "##### Exercise 4"
   ]
  },
  {
   "cell_type": "code",
   "execution_count": 57,
   "id": "89297b68",
   "metadata": {},
   "outputs": [
    {
     "data": {
      "text/plain": [
       "THUR    391\n",
       "Name: Day, dtype: int64"
      ]
     },
     "execution_count": 57,
     "metadata": {},
     "output_type": "execute_result"
    }
   ],
   "source": [
    "data[\"Day\"].value_counts().head(1)"
   ]
  },
  {
   "cell_type": "markdown",
   "id": "6c81422d",
   "metadata": {},
   "source": [
    "### Section B"
   ]
  },
  {
   "cell_type": "markdown",
   "id": "acbd7c17",
   "metadata": {},
   "source": [
    "##### Exercise 1"
   ]
  },
  {
   "cell_type": "code",
   "execution_count": 58,
   "id": "7c8325e5",
   "metadata": {
    "scrolled": false
   },
   "outputs": [
    {
     "name": "stdout",
     "output_type": "stream",
     "text": [
      "The state in the USA that has the most number of flights is DH\n"
     ]
    }
   ],
   "source": [
    "print(\"The state in the USA that has the most number of flights is\",data[\"Carrier\"].value_counts().head(1).index[0])"
   ]
  },
  {
   "cell_type": "markdown",
   "id": "1ced6438",
   "metadata": {},
   "source": [
    "##### Exercise 2"
   ]
  },
  {
   "cell_type": "code",
   "execution_count": 59,
   "id": "d9b12b14",
   "metadata": {},
   "outputs": [
    {
     "name": "stdout",
     "output_type": "stream",
     "text": [
      "The number of flights made to New York (EWR) is 665\n"
     ]
    }
   ],
   "source": [
    "print(\"The number of flights made to New York (EWR) is\",len(data[\"Dest\"][data[\"Dest\"] == \"EWR\"]))"
   ]
  },
  {
   "cell_type": "markdown",
   "id": "6419e722",
   "metadata": {},
   "source": [
    "##### Exercise 3"
   ]
  },
  {
   "cell_type": "code",
   "execution_count": 60,
   "id": "b2369655",
   "metadata": {},
   "outputs": [
    {
     "name": "stdout",
     "output_type": "stream",
     "text": [
      "The number of flights that took off from DCA and landed at JFK are 149\n"
     ]
    }
   ],
   "source": [
    "print(\"The number of flights that took off from DCA and landed at JFK are\",\n",
    "      data[(data[\"Origin\"] == \"DCA\") & (data[\"Dest\"] == \"JFK\")].shape[0])"
   ]
  },
  {
   "cell_type": "markdown",
   "id": "a6866291",
   "metadata": {},
   "source": [
    "##### Exercise 4"
   ]
  },
  {
   "cell_type": "code",
   "execution_count": 61,
   "id": "8e82b239",
   "metadata": {},
   "outputs": [
    {
     "name": "stdout",
     "output_type": "stream",
     "text": [
      "The percentage of late flights on all flights is 19.445706497046796 %\n"
     ]
    }
   ],
   "source": [
    "print(\"The percentage of late flights on all flights is\",data[\"Delayed\"].value_counts(normalize=True).tail(1).values[0]*100,\"%\")"
   ]
  },
  {
   "cell_type": "markdown",
   "id": "955e74d6",
   "metadata": {},
   "source": [
    "##### Exercise 5"
   ]
  },
  {
   "cell_type": "code",
   "execution_count": 62,
   "id": "5969d075",
   "metadata": {
    "scrolled": true
   },
   "outputs": [
    {
     "name": "stdout",
     "output_type": "stream",
     "text": [
      "The percentage of late flights out of the total number of flights flown in rainy weather is 0 %\n"
     ]
    }
   ],
   "source": [
    "print(\"The percentage of late flights out of the total number of flights flown in rainy weather is\",\n",
    "      len(data[(data[\"Delayed\"]==0) & (data[\"Weather\"]==2)]),\"%\")"
   ]
  },
  {
   "cell_type": "code",
   "execution_count": 63,
   "id": "08726a2b",
   "metadata": {},
   "outputs": [
    {
     "data": {
      "text/html": [
       "<div>\n",
       "<style scoped>\n",
       "    .dataframe tbody tr th:only-of-type {\n",
       "        vertical-align: middle;\n",
       "    }\n",
       "\n",
       "    .dataframe tbody tr th {\n",
       "        vertical-align: top;\n",
       "    }\n",
       "\n",
       "    .dataframe thead th {\n",
       "        text-align: right;\n",
       "    }\n",
       "</style>\n",
       "<table border=\"1\" class=\"dataframe\">\n",
       "  <thead>\n",
       "    <tr style=\"text-align: right;\">\n",
       "      <th></th>\n",
       "      <th>Carrier</th>\n",
       "      <th>Day</th>\n",
       "      <th>DepTime</th>\n",
       "      <th>Dest</th>\n",
       "      <th>Origin</th>\n",
       "      <th>Weather</th>\n",
       "      <th>Delayed</th>\n",
       "    </tr>\n",
       "  </thead>\n",
       "  <tbody>\n",
       "  </tbody>\n",
       "</table>\n",
       "</div>"
      ],
      "text/plain": [
       "Empty DataFrame\n",
       "Columns: [Carrier, Day, DepTime, Dest, Origin, Weather, Delayed]\n",
       "Index: []"
      ]
     },
     "execution_count": 63,
     "metadata": {},
     "output_type": "execute_result"
    }
   ],
   "source": [
    "data[(data[\"Delayed\"]==0) & (data[\"Weather\"]==2)]"
   ]
  },
  {
   "cell_type": "markdown",
   "id": "36dac411",
   "metadata": {},
   "source": [
    "##### Exercise 6"
   ]
  },
  {
   "cell_type": "code",
   "execution_count": 64,
   "id": "2de6c82c",
   "metadata": {},
   "outputs": [
    {
     "name": "stdout",
     "output_type": "stream",
     "text": [
      "The number of destinations to which DH flew are 3\n"
     ]
    }
   ],
   "source": [
    "print(\"The number of destinations to which DH flew are\",len(data[\"Dest\"][data[\"Carrier\"]== \"DH\"].value_counts()))"
   ]
  },
  {
   "cell_type": "markdown",
   "id": "68a7c3f8",
   "metadata": {},
   "source": [
    "##### Exercise 7"
   ]
  },
  {
   "cell_type": "code",
   "execution_count": 65,
   "id": "6f40fc93",
   "metadata": {},
   "outputs": [
    {
     "name": "stdout",
     "output_type": "stream",
     "text": [
      "The number of flights that took off between 10:00 and 15:00 are 690\n"
     ]
    }
   ],
   "source": [
    "print(\"The number of flights that took off between 10:00 and 15:00 are\",\n",
    "      len(data[\"DepTime\"][(data[\"DepTime\"]>=1000)&(data[\"DepTime\"]<=1500)]))"
   ]
  },
  {
   "cell_type": "markdown",
   "id": "67d9b326",
   "metadata": {},
   "source": [
    "##### Exercise 8"
   ]
  },
  {
   "cell_type": "code",
   "execution_count": 66,
   "id": "c13804c8",
   "metadata": {},
   "outputs": [
    {
     "name": "stdout",
     "output_type": "stream",
     "text": [
      "The number of flights that took off between 14:00 and 17:00 on Wednesdays are 103\n"
     ]
    }
   ],
   "source": [
    "print(\"The number of flights that took off between 14:00 and 17:00 on Wednesdays are\",\n",
    "      len(data[(data[\"Day\"]==\"WED\") & (data[\"DepTime\"]>=1400) & (data[\"DepTime\"]<=1700)]))"
   ]
  },
  {
   "cell_type": "markdown",
   "id": "36682363",
   "metadata": {},
   "source": [
    "##### Exercise 9"
   ]
  },
  {
   "cell_type": "code",
   "execution_count": 67,
   "id": "57654f84",
   "metadata": {},
   "outputs": [
    {
     "name": "stdout",
     "output_type": "stream",
     "text": [
      "The number of flights taking off for JFK between 13:00 and 17:00 on Wednesdays is 33\n"
     ]
    }
   ],
   "source": [
    "print(\"The number of flights taking off for JFK between 13:00 and 17:00 on Wednesdays is\",\n",
    "      len(data[(data[\"Dest\"]==\"JFK\") & (data[\"DepTime\"]>=1300) & (data[\"DepTime\"]<=1700) & (data[\"Day\"]==\"WED\")]))"
   ]
  },
  {
   "cell_type": "markdown",
   "id": "6c353b75",
   "metadata": {},
   "source": [
    "##### Exercise 10"
   ]
  },
  {
   "cell_type": "code",
   "execution_count": 68,
   "id": "7226cd99",
   "metadata": {},
   "outputs": [
    {
     "name": "stdout",
     "output_type": "stream",
     "text": [
      "The latest departure time is 2330\n"
     ]
    },
    {
     "name": "stderr",
     "output_type": "stream",
     "text": [
      "C:\\Users\\Nadav Fireman\\AppData\\Local\\Temp\\ipykernel_15696\\2938561283.py:1: FutureWarning: In a future version of pandas all arguments of Series.sort_index will be keyword-only.\n",
      "  print(\"The latest departure time is\",data[\"DepTime\"].value_counts().sort_index(0).tail(1).index[0])\n"
     ]
    }
   ],
   "source": [
    "print(\"The latest departure time is\",data[\"DepTime\"].value_counts().sort_index(0).tail(1).index[0])"
   ]
  },
  {
   "cell_type": "markdown",
   "id": "7a6889ad",
   "metadata": {},
   "source": [
    "### Section C"
   ]
  },
  {
   "cell_type": "code",
   "execution_count": 69,
   "id": "58549c77",
   "metadata": {
    "scrolled": true
   },
   "outputs": [
    {
     "data": {
      "image/png": "[encoded data removed]",
      "text/plain": [
       "<Figure size 432x288 with 1 Axes>"
      ]
     },
     "metadata": {
      "needs_background": "light"
     },
     "output_type": "display_data"
    },
    {
     "name": "stdout",
     "output_type": "stream",
     "text": [
      "The higher the column, the more flights the company makes\n"
     ]
    }
   ],
   "source": [
    "x = data[\"Carrier\"].value_counts().index\n",
    "y = data[\"Carrier\"].value_counts().values\n",
    "plt.bar(x,y,color=\"deepskyblue\")\n",
    "plt.xlabel('U.S. District')\n",
    "plt.ylabel('Number of flights')\n",
    "plt.title('Number of flights to each county in the United States')\n",
    "plt.show()\n",
    "print(\"The higher the column, the more flights the company makes\")"
   ]
  },
  {
   "cell_type": "code",
   "execution_count": 70,
   "id": "6912bbcc",
   "metadata": {},
   "outputs": [
    {
     "data": {
      "image/png": "[encoded data removed]",
      "text/plain": [
       "<Figure size 360x360 with 1 Axes>"
      ]
     },
     "metadata": {},
     "output_type": "display_data"
    },
    {
     "name": "stdout",
     "output_type": "stream",
     "text": [
      "The graph describes the ratio of late flights to all flights\n"
     ]
    }
   ],
   "source": [
    "x = data[\"Delayed\"].value_counts(normalize=True).values*100\n",
    "labels = \"Left on time\" , \"Came out delayed\"\n",
    "explode = (0,0.5)\n",
    "plt.figure(figsize=(5,5))\n",
    "plt.pie(x,explode=explode,labels=labels,autopct=\"%1.2f%%\", startangle=30)\n",
    "plt.title('Departure on time or late')\n",
    "plt.show()\n",
    "print(\"The graph describes the ratio of late flights to all flights\")"
   ]
  },
  {
   "cell_type": "code",
   "execution_count": 71,
   "id": "aeeb2ebc",
   "metadata": {},
   "outputs": [
    {
     "data": {
      "image/png": "[encoded data removed]",
      "text/plain": [
       "<Figure size 360x360 with 1 Axes>"
      ]
     },
     "metadata": {},
     "output_type": "display_data"
    }
   ],
   "source": [
    "x = data[\"Day\"][(data[\"DepTime\"]>=1400) & (data[\"DepTime\"]<=1700)].value_counts().values\n",
    "labels = data[\"Day\"][(data[\"DepTime\"]>=1400) & (data[\"DepTime\"]<=1700)].value_counts().index\n",
    "explode = (0,0.5,0,0,0,0,0)\n",
    "plt.figure(figsize=(5,5))\n",
    "plt.pie(x,explode=explode,labels=labels,autopct=\"%1.2f%%\", startangle=270)\n",
    "plt.title('Daily flights from 14:00 to 17:00')\n",
    "plt.show()"
   ]
  },
  {
   "cell_type": "markdown",
   "id": "0c00d8d0",
   "metadata": {},
   "source": [
    "# Part C"
   ]
  },
  {
   "cell_type": "markdown",
   "id": "76910ce6",
   "metadata": {},
   "source": [
    "#### Exercise 1"
   ]
  },
  {
   "cell_type": "code",
   "execution_count": 72,
   "id": "03d3bfff",
   "metadata": {},
   "outputs": [
    {
     "data": {
      "text/plain": [
       "0    1773\n",
       "1     428\n",
       "Name: Delayed, dtype: int64"
      ]
     },
     "execution_count": 72,
     "metadata": {},
     "output_type": "execute_result"
    }
   ],
   "source": [
    "data[\"Delayed\"].value_counts()"
   ]
  },
  {
   "cell_type": "markdown",
   "id": "ab416dc5",
   "metadata": {},
   "source": [
    "#### Exercise 2"
   ]
  },
  {
   "cell_type": "code",
   "execution_count": 73,
   "id": "c9aa2d48",
   "metadata": {},
   "outputs": [
    {
     "data": {
      "text/plain": [
       "428"
      ]
     },
     "execution_count": 73,
     "metadata": {},
     "output_type": "execute_result"
    }
   ],
   "source": [
    "data[\"Delayed\"].sum()"
   ]
  },
  {
   "cell_type": "markdown",
   "id": "8339404d",
   "metadata": {},
   "source": [
    "#### Exercise 3"
   ]
  },
  {
   "cell_type": "markdown",
   "id": "fd2f3a3b",
   "metadata": {},
   "source": [
    "משתנים בינארים יכולים להכיל אפס ואחד, היות ועמודה זו בנויה ממספרים אלו, הפלט שנקבל יסכום את כל האיברים שמכילים את הספרה 1"
   ]
  },
  {
   "cell_type": "markdown",
   "id": "763be864",
   "metadata": {},
   "source": [
    "#### Exercise 4"
   ]
  },
  {
   "cell_type": "code",
   "execution_count": 74,
   "id": "f2eae1aa",
   "metadata": {},
   "outputs": [
    {
     "data": {
      "text/plain": [
       "0.19445706497046797"
      ]
     },
     "execution_count": 74,
     "metadata": {},
     "output_type": "execute_result"
    }
   ],
   "source": [
    "data[\"Delayed\"].mean()"
   ]
  },
  {
   "cell_type": "markdown",
   "id": "12a1c246",
   "metadata": {},
   "source": [
    "הממוצע של העמודה תמיד יהיה בין אפס לאחד, והוא משקף את אחוז הטיסות המאחרות (כפול 100)"
   ]
  },
  {
   "cell_type": "markdown",
   "id": "0c19bc68",
   "metadata": {},
   "source": [
    "#### Exercise 5"
   ]
  },
  {
   "cell_type": "code",
   "execution_count": 75,
   "id": "31ab0047",
   "metadata": {},
   "outputs": [
    {
     "data": {
      "text/plain": [
       "array([0., 1., 1., ..., 1., 1., 1.])"
      ]
     },
     "execution_count": 75,
     "metadata": {},
     "output_type": "execute_result"
    }
   ],
   "source": [
    "rand_arr = np.random.random(25000)\n",
    "rand_arr[rand_arr < 0.5] = 0\n",
    "rand_arr[rand_arr >= 0.5] = 1\n",
    "rand_arr"
   ]
  },
  {
   "cell_type": "code",
   "execution_count": 76,
   "id": "ea294928",
   "metadata": {},
   "outputs": [
    {
     "data": {
      "text/plain": [
       "0.49772"
      ]
     },
     "execution_count": 76,
     "metadata": {},
     "output_type": "execute_result"
    }
   ],
   "source": [
    "rand_arr.mean()"
   ]
  },
  {
   "cell_type": "markdown",
   "id": "1ef82c80",
   "metadata": {},
   "source": [
    " ניתן להסיק כי הממוצע תמיד יתקרב לחצי היות והההסתברות לקבל 0 ו1 שווה"
   ]
  },
  {
   "cell_type": "markdown",
   "id": "b9bb21f0",
   "metadata": {},
   "source": [
    "#### Exercise 6"
   ]
  },
  {
   "cell_type": "code",
   "execution_count": 77,
   "id": "b61d945f",
   "metadata": {},
   "outputs": [
    {
     "data": {
      "text/plain": [
       "array([[1., 1., 1., ..., 0., 0., 0.]])"
      ]
     },
     "execution_count": 77,
     "metadata": {},
     "output_type": "execute_result"
    }
   ],
   "source": [
    "rand_arr[rand_arr[::-1].sort()]"
   ]
  }
 ],
 "metadata": {
  "kernelspec": {
   "display_name": "Python 3 (ipykernel)",
   "language": "python",
   "name": "python3"
  },
  "language_info": {
   "codemirror_mode": {
    "name": "ipython",
    "version": 3
   },
   "file_extension": ".py",
   "mimetype": "text/x-python",
   "name": "python",
   "nbconvert_exporter": "python",
   "pygments_lexer": "ipython3",
   "version": "3.9.12"
  }
 },
 "nbformat": 4,
 "nbformat_minor": 5
}
